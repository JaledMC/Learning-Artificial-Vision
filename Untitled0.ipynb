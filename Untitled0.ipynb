{
  "nbformat": 4,
  "nbformat_minor": 0,
  "metadata": {
    "colab": {
      "name": "Untitled0.ipynb",
      "version": "0.3.2",
      "provenance": [],
      "include_colab_link": true
    },
    "kernelspec": {
      "name": "python3",
      "display_name": "Python 3"
    }
  },
  "cells": [
    {
      "cell_type": "markdown",
      "metadata": {
        "id": "view-in-github",
        "colab_type": "text"
      },
      "source": [
        "<a href=\"https://colab.research.google.com/github/JaledMC/Learning-Artificial-Vision/blob/master/Untitled0.ipynb\" target=\"_parent\"><img src=\"https://colab.research.google.com/assets/colab-badge.svg\" alt=\"Open In Colab\"/></a>"
      ]
    },
    {
      "metadata": {
        "id": "NrSAoeLOgBO0",
        "colab_type": "text"
      },
      "cell_type": "markdown",
      "source": [
        "# Import_image_and_video.ipynb\n",
        "\n",
        "This notebook explains how to import and save images and videos, from local folders or usb cameras, with OpenCV. If you don't have the needed libraries, run the next block."
      ]
    },
    {
      "metadata": {
        "id": "Mw7W_B7Ef-69",
        "colab_type": "code",
        "colab": {}
      },
      "cell_type": "code",
      "source": [
        "!apt-get -qq install -y libsm6 libxext6 && pip3 install -q -U opencv-python\n",
        "!pip3 install -q matplotlib\n",
        "!pip3 install -q numpy\n",
        "!pip3 install -q requests"
      ],
      "execution_count": 0,
      "outputs": []
    },
    {
      "metadata": {
        "id": "IMk1HnaIgX54",
        "colab_type": "text"
      },
      "cell_type": "markdown",
      "source": [
        "Import the libraries"
      ]
    },
    {
      "metadata": {
        "id": "O7TmyVGcgE4t",
        "colab_type": "code",
        "colab": {}
      },
      "cell_type": "code",
      "source": [
        "import cv2\n",
        "import numpy as np\n",
        "import matplotlib.pyplot as plt"
      ],
      "execution_count": 0,
      "outputs": []
    },
    {
      "metadata": {
        "id": "KPFNRlEZgaKy",
        "colab_type": "code",
        "colab": {}
      },
      "cell_type": "code",
      "source": [
        ""
      ],
      "execution_count": 0,
      "outputs": []
    }
  ]
}