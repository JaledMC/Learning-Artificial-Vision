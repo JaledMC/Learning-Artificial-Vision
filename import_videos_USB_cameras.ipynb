{
  "nbformat": 4,
  "nbformat_minor": 0,
  "metadata": {
    "colab": {
      "name": "import_videos_USB_cameras.ipynb",
      "version": "0.3.2",
      "provenance": [],
      "include_colab_link": true
    },
    "kernelspec": {
      "name": "python3",
      "display_name": "Python 3"
    }
  },
  "cells": [
    {
      "cell_type": "markdown",
      "metadata": {
        "id": "view-in-github",
        "colab_type": "text"
      },
      "source": [
        "<a href=\"https://colab.research.google.com/github/JaledMC/Learning-Artificial-Vision/blob/master/import_videos_USB_cameras.ipynb\" target=\"_parent\"><img src=\"https://colab.research.google.com/assets/colab-badge.svg\" alt=\"Open In Colab\"/></a>"
      ]
    },
    {
      "metadata": {
        "id": "NrSAoeLOgBO0",
        "colab_type": "text"
      },
      "cell_type": "markdown",
      "source": [
        "# Import videos and use USB cameras.ipynb\n",
        "\n",
        "This notebook explains how to import and save videos from local folders or usb cameras, with OpenCV.   **Google Colab doesn't support video in cells. Use a local Jupyter Notebook for this.** If you want more information about how to play videos on Colab, this [link](https://github.com/bikz05/ipython-notebooks/blob/master/computer-vision/displaying-video-in-ipython-notebook.ipynb) and this [link](https://medium.com/@neotheicebird/webcam-based-image-processing-in-ipython-notebooks-47c75a022514) can help you.  \n",
        "\n",
        "If you don't have the needed libraries, run the next block. "
      ]
    },
    {
      "metadata": {
        "id": "Mw7W_B7Ef-69",
        "colab_type": "code",
        "colab": {}
      },
      "cell_type": "code",
      "source": [
        "!apt-get -qq install -y libsm6 libxext6 && pip3 install -q -U opencv-python\n",
        "!pip3 install -q matplotlib\n",
        "!pip3 install -q numpy\n",
        "!pip3 install -q requests"
      ],
      "execution_count": 0,
      "outputs": []
    },
    {
      "metadata": {
        "id": "IMk1HnaIgX54",
        "colab_type": "text"
      },
      "cell_type": "markdown",
      "source": [
        "Import the libraries"
      ]
    },
    {
      "metadata": {
        "id": "O7TmyVGcgE4t",
        "colab_type": "code",
        "colab": {}
      },
      "cell_type": "code",
      "source": [
        "import cv2\n",
        "import numpy as np\n",
        "import matplotlib.pyplot as plt"
      ],
      "execution_count": 0,
      "outputs": []
    },
    {
      "metadata": {
        "colab_type": "text",
        "id": "7L_GfLIrjv4F"
      },
      "cell_type": "markdown",
      "source": [
        "## Download the videos\n",
        "\n",
        "To use the github videos, first download them to local folder."
      ]
    },
    {
      "metadata": {
        "id": "KPFNRlEZgaKy",
        "colab_type": "code",
        "colab": {}
      },
      "cell_type": "code",
      "source": [
        "response = requests.get('https://raw.githubusercontent.com/JaledMC/Learning-Artificial-Vision/master/images/dog_video.mp4')\n",
        "with open('dog.mp4', 'wb') as f:\n",
        "    f.write(response.content)"
      ],
      "execution_count": 0,
      "outputs": []
    },
    {
      "metadata": {
        "colab_type": "text",
        "id": "A9zn6YLujv-J"
      },
      "cell_type": "markdown",
      "source": [
        "## Import a local video\n",
        "\n",
        "Now import the video with VideoCapture, and show frame by frame with a loop. The waitKey command is needed after the imshow, and it can adjusts the play speed. We can exit the video typing 'q' key. In that case, release video object and close all windows."
      ]
    },
    {
      "metadata": {
        "id": "OdmpyNTSkF9b",
        "colab_type": "code",
        "colab": {}
      },
      "cell_type": "code",
      "source": [
        "# Import the video\n",
        "cap = cv2.VideoCapture('dog.mp4')\n",
        "speed = 25\n",
        "exit_key = 'q'\n",
        "while(cap.isOpened()):\n",
        "    ret, frame = cap.read()\n",
        "    cv2.imshow('frame', frame)\n",
        "    # Play speed of the video can be adjust with waitKey time. 25 is the standard. Exit with 'q' key\n",
        "    if cv2.waitKey(speed) & 0xFF == ord(exit_key):\n",
        "        break\n",
        "cap.release()\n",
        "cv2.destroyAllWindows()"
      ],
      "execution_count": 0,
      "outputs": []
    },
    {
      "metadata": {
        "colab_type": "text",
        "id": "tk0RjHmXjwZK"
      },
      "cell_type": "markdown",
      "source": [
        "## USB camera\n",
        "\n",
        "Access the video camera content is like play any local video, but we use the number channel ot the camera."
      ]
    },
    {
      "metadata": {
        "id": "rMK8xPcLkRco",
        "colab_type": "code",
        "colab": {}
      },
      "cell_type": "code",
      "source": [
        "cap = cv2.VideoCapture(1)\n",
        "while(True):\n",
        "    _, frame = cap.read()\n",
        "    cv2.imshow('frame',frame)\n",
        "    if cv2.waitKey(1) & 0xFF == ord('q'):\n",
        "        break\n",
        "\n",
        "cap.release()\n",
        "cv2.destroyAllWindows()"
      ],
      "execution_count": 0,
      "outputs": []
    },
    {
      "metadata": {
        "id": "Rlo5wKNykaoT",
        "colab_type": "text"
      },
      "cell_type": "markdown",
      "source": [
        "## Capture an image with webcam\n",
        "Use the key codes to execute different commands, in this case, take a shoot and save it. The only problem is know the number code of each key."
      ]
    },
    {
      "metadata": {
        "id": "Ry08zU1Bkbjf",
        "colab_type": "code",
        "colab": {}
      },
      "cell_type": "code",
      "source": [
        "cap = cv2.VideoCapture(1)\n",
        "\n",
        "while True:\n",
        "    ret, video = cap.read()\n",
        "    gray = cv2.cvtColor(video, cv2.COLOR_BGR2GRAY)\n",
        "    cv2.imshow('Video', gray)\n",
        "    \n",
        "    k = cv2.waitKey(30) & 0xff\n",
        "    if k == 113: # q\n",
        "        frame = gray.copy()\n",
        "        cv2.imshow('Frame', frame)\n",
        "    if k == 27: # Esc\n",
        "        break\n",
        "        \n",
        "cv2.imwrite('saved_image.png', frame)\n",
        "cap.release()\n",
        "cv2.destroyAllWindows()"
      ],
      "execution_count": 0,
      "outputs": []
    },
    {
      "metadata": {
        "id": "m5bFPfockiyN",
        "colab_type": "text"
      },
      "cell_type": "markdown",
      "source": [
        "## Save a webcam video\n",
        "To save a webcam video, create a video object with proper codecs (dependant of the OS) and size. When loop finish the video is saved."
      ]
    },
    {
      "metadata": {
        "id": "HEPzbSBJkeft",
        "colab_type": "code",
        "colab": {}
      },
      "cell_type": "code",
      "source": [
        "# Save a video. Codec is dependant of the OS\n",
        "cap = cv2.VideoCapture(1)\n",
        "# Define the codec and create VideoWriter object\n",
        "fourcc = cv2.VideoWriter_fourcc(*'XVID')\n",
        "out = cv2.VideoWriter('output.avi',fourcc, 20.0, (640,480))  # name, codec, fps, frame size\n",
        "\n",
        "while(True):\n",
        "    _, frame = cap.read()\n",
        "    out.write(frame);\n",
        "    cv2.imshow('frame',frame)\n",
        "    if cv2.waitKey(1) & 0xFF == ord('q'):\n",
        "        break\n",
        "\n",
        "cap.release()\n",
        "cv2.destroyAllWindows()"
      ],
      "execution_count": 0,
      "outputs": []
    },
    {
      "metadata": {
        "id": "76K4pd-Zklaz",
        "colab_type": "code",
        "colab": {}
      },
      "cell_type": "code",
      "source": [
        ""
      ],
      "execution_count": 0,
      "outputs": []
    }
  ]
}