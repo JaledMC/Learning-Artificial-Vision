{
  "nbformat": 4,
  "nbformat_minor": 0,
  "metadata": {
    "colab": {
      "name": "preprocess_video.ipynb",
      "version": "0.3.2",
      "provenance": [],
      "include_colab_link": true
    },
    "kernelspec": {
      "name": "python3",
      "display_name": "Python 3"
    }
  },
  "cells": [
    {
      "cell_type": "markdown",
      "metadata": {
        "id": "view-in-github",
        "colab_type": "text"
      },
      "source": [
        "<a href=\"https://colab.research.google.com/github/JaledMC/Learning-Artificial-Vision/blob/master/preprocess_video.ipynb\" target=\"_parent\"><img src=\"https://colab.research.google.com/assets/colab-badge.svg\" alt=\"Open In Colab\"/></a>"
      ]
    },
    {
      "metadata": {
        "id": "0A3C2XQb85pj",
        "colab_type": "text"
      },
      "cell_type": "markdown",
      "source": [
        "\n",
        "# Smoothing the image\n",
        "\n",
        "Sometimes, smoothing the borders to prevent noise on the eges is needed."
      ]
    },
    {
      "metadata": {
        "id": "5PfpNVuyV-6k",
        "colab_type": "code",
        "colab": {}
      },
      "cell_type": "code",
      "source": [
        "# Blur and smooth the image\n",
        "cap = cv2.VideoCapture(1)\n",
        " \n",
        "while(True):\n",
        "    _, frame = cap.read()\n",
        "    # low pass filter smooth the image changing the values for the kernel area average\n",
        "    kernel = np.ones((15, 15), np.float32)/225 # area to calculate the average\n",
        "    smoothed = cv2.filter2D(frame, -1, kernel)  # src, depth(-1 same as the src), area\n",
        "    # same concept with gaussian operation\n",
        "    blur = cv2.GaussianBlur(frame,(15, 15),0)  # src, area, deviation\n",
        "    # central element of the kernel is changedwith the median value of the area\n",
        "    median = cv2.medianBlur(frame, 15)  # src, area\n",
        "    # like gaussian, but transform only pixels with same intensity values. Because of that,\n",
        "    # is highly effective in noise removal while keeping edges sharp\n",
        "    bilateral = cv2.bilateralFilter(frame, 15, 75, 75)\n",
        "    final_frame = cv2.hconcat((smoothed, blur, median, bilateral))\n",
        "    cv2.imshow('frame', final_frame)\n",
        "    if cv2.waitKey(1) & 0xFF == ord('q'):\n",
        "        break\n",
        "\n",
        "cap.release()\n",
        "cv2.destroyAllWindows()"
      ],
      "execution_count": 0,
      "outputs": []
    },
    {
      "metadata": {
        "id": "9Uu2gjf-86ZF",
        "colab_type": "text"
      },
      "cell_type": "markdown",
      "source": [
        "\n",
        "# Morphological Transformations\n",
        "\n",
        "To remove the noise, or fill holes in the image. Usually a couple of iterations are needed.\n"
      ]
    },
    {
      "metadata": {
        "id": "EdcRtOKSWB0r",
        "colab_type": "code",
        "colab": {}
      },
      "cell_type": "code",
      "source": [
        "# Opening and closing\n",
        "cap = cv2.VideoCapture(1)\n",
        " \n",
        "while(True):\n",
        "    _, frame = cap.read()\n",
        "    frame2gray = cv2.cvtColor(frame, cv2.COLOR_BGR2GRAY)\n",
        "    th2 = cv2.adaptiveThreshold(frame2gray,255,cv2.ADAPTIVE_THRESH_GAUSSIAN_C, cv2.THRESH_BINARY,11,2)\n",
        "    kernel = np.ones((2,2),np.float32)/225\n",
        "    erosion = cv2.erode(th2, kernel, iterations = 1)\n",
        "    dilation = cv2.dilate(th2, kernel, iterations = 1)\n",
        "    opening = cv2.morphologyEx(th2, cv2.MORPH_OPEN, kernel)\n",
        "    closing = cv2.morphologyEx(th2, cv2.MORPH_CLOSE, kernel)\n",
        "\n",
        "    final_frame = cv2.hconcat((erosion, dilation, opening, closing))\n",
        "    cv2.imshow('frame', final_frame)\n",
        "    if cv2.waitKey(1) & 0xFF == ord('q'):\n",
        "        break\n",
        "\n",
        "cap.release()\n",
        "cv2.destroyAllWindows()"
      ],
      "execution_count": 0,
      "outputs": []
    }
  ]
}