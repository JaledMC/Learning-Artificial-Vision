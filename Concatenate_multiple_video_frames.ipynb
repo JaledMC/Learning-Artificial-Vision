{
  "nbformat": 4,
  "nbformat_minor": 0,
  "metadata": {
    "colab": {
      "name": "Concatenate_multiple_video_frames.ipynb",
      "version": "0.3.2",
      "provenance": [],
      "include_colab_link": true
    },
    "kernelspec": {
      "name": "python3",
      "display_name": "Python 3"
    }
  },
  "cells": [
    {
      "cell_type": "markdown",
      "metadata": {
        "id": "view-in-github",
        "colab_type": "text"
      },
      "source": [
        "<a href=\"https://colab.research.google.com/github/JaledMC/Learning-Artificial-Vision/blob/master/Concatenate_multiple_video_frames.ipynb\" target=\"_parent\"><img src=\"https://colab.research.google.com/assets/colab-badge.svg\" alt=\"Open In Colab\"/></a>"
      ]
    },
    {
      "metadata": {
        "id": "-8STQsoWeynK",
        "colab_type": "text"
      },
      "cell_type": "markdown",
      "source": [
        "# Concatenate multiple video frames\n",
        "\n",
        "If we want more video images, we can open multiple windows, or concatenate them in one window with borders between each frame. Use copyMakeBorder for the border and hconcatenate for horizontal concatenation."
      ]
    },
    {
      "metadata": {
        "id": "OsRmNm9HjCXA",
        "colab_type": "code",
        "colab": {}
      },
      "cell_type": "code",
      "source": [
        "# import libraries\n",
        "import cv2"
      ],
      "execution_count": 0,
      "outputs": []
    },
    {
      "metadata": {
        "id": "w1sdKnX1ZLcC",
        "colab_type": "code",
        "colab": {}
      },
      "cell_type": "code",
      "source": [
        "# Video is so heavy for good subplots. We can make them with concatenate\n",
        "cap = cv2.VideoCapture(1)\n",
        " \n",
        "while(True):\n",
        "    _, frame = cap.read()\n",
        "    # Make three frame copies and put text on them\n",
        "    frame1 = frame.copy()\n",
        "    frame2 = frame.copy()\n",
        "    frame3 = frame.copy()\n",
        "    font = cv2.FONT_HERSHEY_SIMPLEX\n",
        "    \n",
        "    # Text on the image: Params: image, text, origin, font, fontScale, color, thickness, lineType\n",
        "    cv2.putText(frame1, 'First!', (20, 35), font, 1, (200, 255, 155), 2, cv2.LINE_AA);\n",
        "    # Put a border around the frame. Params: frame, (top, bottom, left, right) border sizes, borders type, color\n",
        "    window1 = cv2.copyMakeBorder(frame1, 30, 10, 10, 10, cv2.BORDER_CONSTANT, value=[0, 0, 255])\n",
        "    \n",
        "    # Text on the image: Params: image, text, origin, font, fontScale, color, thickness, lineType\n",
        "    cv2.putText(frame2, 'Second!', (20, 35), font, 1, (200, 255, 155), 2, cv2.LINE_AA);\n",
        "    # Put a border around the frame. Params: frame, (top, bottom, left, right) border sizes, borders type, color\n",
        "    window2 = cv2.copyMakeBorder(frame2, 30, 10, 10, 10, cv2.BORDER_CONSTANT, value=[0, 0, 255])\n",
        "    \n",
        "    # Text on the image: Params: image, text, origin, font, fontScale, color, thickness, lineType\n",
        "    cv2.putText(frame3, 'Third!', (20, 35), font, 1, (200, 255, 155), 2, cv2.LINE_AA);\n",
        "    # Put a border around the frame. Params: frame, (top, bottom, left, right) border sizes, borders type, color\n",
        "    window3 = cv2.copyMakeBorder(frame3, 30, 10, 10, 10, cv2.BORDER_CONSTANT, value=[0, 0, 255])\n",
        "    \n",
        "    final_frame = cv2.hconcat((window1, window2, window3))\n",
        "    cv2.imshow('frame', final_frame)\n",
        "    if cv2.waitKey(1) & 0xFF == ord('q'):\n",
        "        break\n",
        "\n",
        "cap.release()\n",
        "cv2.destroyAllWindows()"
      ],
      "execution_count": 0,
      "outputs": []
    },
    {
      "metadata": {
        "id": "2PGKU66WjI7J",
        "colab_type": "text"
      },
      "cell_type": "markdown",
      "source": [
        "You can't use \n",
        "\n",
        "```\n",
        "frame1 = frame\n",
        "```\n",
        "\n",
        "because this works like a pointer. The frame must be cloned in other matrix:\n",
        "\n",
        "```\n",
        "frame1 = frame.copy()\n",
        "```\n",
        "\n",
        "\n"
      ]
    },
    {
      "metadata": {
        "id": "PkfdZaWVgqWx",
        "colab_type": "code",
        "colab": {}
      },
      "cell_type": "code",
      "source": [
        ""
      ],
      "execution_count": 0,
      "outputs": []
    }
  ]
}