{
  "nbformat": 4,
  "nbformat_minor": 0,
  "metadata": {
    "colab": {
      "name": "histograms_HSV_images.ipynb",
      "version": "0.3.2",
      "provenance": [],
      "collapsed_sections": [],
      "include_colab_link": true
    },
    "kernelspec": {
      "name": "python3",
      "display_name": "Python 3"
    }
  },
  "cells": [
    {
      "cell_type": "markdown",
      "metadata": {
        "id": "view-in-github",
        "colab_type": "text"
      },
      "source": [
        "<a href=\"https://colab.research.google.com/github/JaledMC/Learning-Artificial-Vision/blob/master/histograms_HSV_images.ipynb\" target=\"_parent\"><img src=\"https://colab.research.google.com/assets/colab-badge.svg\" alt=\"Open In Colab\"/></a>"
      ]
    },
    {
      "metadata": {
        "id": "hYtNqBFZCvq7",
        "colab_type": "text"
      },
      "cell_type": "markdown",
      "source": [
        "## Histograms and HSV spectrum\n",
        "\n",
        "With histograms, we can measure how many pixels meets certain value in the image, and identify features and global values of pixels on images, with x axis for the pixel value, and y axis for the quantity of pixels.\n",
        "\n",
        "If you don't have the needed libraries installed, run the next block."
      ]
    },
    {
      "metadata": {
        "id": "GJ9hRR_tDInv",
        "colab_type": "code",
        "colab": {}
      },
      "cell_type": "code",
      "source": [
        "!apt-get -qq install -y libsm6 libxext6 && pip3 install -q -U opencv-python\n",
        "!pip3 install -q matplotlib\n",
        "!pip3 install -q numpy\n",
        "!pip3 install -q requests"
      ],
      "execution_count": 0,
      "outputs": []
    },
    {
      "metadata": {
        "id": "_m2Voq6UDJs4",
        "colab_type": "text"
      },
      "cell_type": "markdown",
      "source": [
        "Import the libraries, and download the github images."
      ]
    },
    {
      "metadata": {
        "id": "KWaQemHhDNbc",
        "colab_type": "code",
        "colab": {}
      },
      "cell_type": "code",
      "source": [
        "import cv2\n",
        "import numpy as np\n",
        "import matplotlib.pyplot as plt"
      ],
      "execution_count": 0,
      "outputs": []
    },
    {
      "metadata": {
        "id": "iYrUk8iuD2EP",
        "colab_type": "code",
        "colab": {
          "base_uri": "https://localhost:8080/",
          "height": 160
        },
        "outputId": "62bd48bb-46fc-4c0d-c8ac-e285232be6b0"
      },
      "cell_type": "code",
      "source": [
        "from PIL import Image\n",
        "import requests\n",
        "from io import BytesIO\n",
        "\n",
        "# import first image\n",
        "response = requests.get('https://raw.githubusercontent.com/JaledMC/Learning-Artificial-Vision/master/images/origami.png')\n",
        "img = Image.open(BytesIO(response.content))\n",
        "img.save(\"origami.png\")\n",
        "bird = cv2.imread('origami.png')\n",
        "bird2 = cv2.imread('origami.png')\n",
        "# Convert second image to RGB spectrum\n",
        "image2 = cv2.cvtColor(image2, cv2.COLOR_BGR2RGB)\n",
        "# concatenate both\n",
        "image = np.concatenate((bird, bird2), axis=1)\n",
        "# Convert the result to gray spectrum\n",
        "image_gray = cv2.cvtColor(birds, cv2.COLOR_BGR2GRAY)\n",
        "\n",
        "# Represent with matplotlib the image. We can obtain his pixel values and coordinates.\n",
        "fig, axes = plt.subplots(1, 2, figsize=(12, 12))\n",
        "axes[0].imshow(birds)\n",
        "axes[0].set_title('True colors')\n",
        "axes[1].imshow(image_gray)\n",
        "axes[1].set_title('Gray')\n",
        "for ax in axes:\n",
        "    ax.set_xticks([])\n",
        "    ax.set_yticks([])"
      ],
      "execution_count": 22,
      "outputs": [
        {
          "output_type": "display_data",
          "data": {
            "image/png": "[encoded data removed]",
            "text/plain": [
              "<matplotlib.figure.Figure at 0x7f0d42b65860>"
            ]
          },
          "metadata": {
            "tags": []
          }
        }
      ]
    },
    {
      "metadata": {
        "id": "yDg2YsNdDy8S",
        "colab_type": "text"
      },
      "cell_type": "markdown",
      "source": [
        "Matplotlib has is own hist() function. Remember that x limit is the limit pixel value, 256."
      ]
    },
    {
      "metadata": {
        "id": "IhPCbZ-WAq7G",
        "colab_type": "code",
        "colab": {
          "base_uri": "https://localhost:8080/",
          "height": 297
        },
        "outputId": "09c4fab4-bc48-4646-db24-1f09d39a170c"
      },
      "cell_type": "code",
      "source": [
        "fig, axes = plt.subplots(1, 2, figsize=(8, 4))\n",
        "# image, channel. mask, BINcount, range\n",
        "histr = cv2.calcHist([image_gray], [0], None, [256], [0,256])\n",
        "axes[0].plot(histr, color = 'b')\n",
        "axes[0].set_title('Gray hist')\n",
        "axes[0].axis(xmin=0, xmax=256)\n",
        "\n",
        "color = ('b', 'g', 'r')\n",
        "for i,col in enumerate(color):\n",
        "    histr = cv2.calcHist([image], [i], None, [256], [0, 256])\n",
        "    axes[1].plot(histr, color = col)\n",
        "axes[1].axis(xmin=0, xmax=256)\n",
        "axes[1].set_title('BGR hist')"
      ],
      "execution_count": 23,
      "outputs": [
        {
          "output_type": "execute_result",
          "data": {
            "text/plain": [
              "Text(0.5,1,'BGR hist')"
            ]
          },
          "metadata": {
            "tags": []
          },
          "execution_count": 23
        },
        {
          "output_type": "display_data",
          "data": {
            "image/png": "[encoded data removed]",
            "text/plain": [
              "<matplotlib.figure.Figure at 0x7f0d42ccb390>"
            ]
          },
          "metadata": {
            "tags": []
          }
        }
      ]
    },
    {
      "metadata": {
        "id": "ftFXlo1kBQqv",
        "colab_type": "text"
      },
      "cell_type": "markdown",
      "source": [
        "## Histogram equalization"
      ]
    },
    {
      "metadata": {
        "id": "vIglZxqxBSY8",
        "colab_type": "code",
        "colab": {}
      },
      "cell_type": "code",
      "source": [
        "eyes = cv2.imread('eyes_image.png', 0)\n",
        "\n",
        "fig, axes = plt.subplots(2, 2, figsize=(14, 8))\n",
        "# Original hist\n",
        "histr = cv2.calcHist([eyes], [0], None, [256], [0,256])\n",
        "axes[0][0].plot(histr,color = 'b')\n",
        "axes[0][0].set_title('Original hist')\n",
        "axes[0][0].axis(xmin=0, xmax=256)\n",
        "# Original hist\n",
        "equal_histr = cv2.equalizeHist(eyes)\n",
        "axes[0][1].plot(equal_histr, color = 'b')\n",
        "axes[0][1].set_title('Equalize hist')\n",
        "axes[0][1].axis(xmin=0, xmax=256)\n",
        "\n",
        "axes[1][0].imshow(eyes, cmap='gray')\n",
        "axes[1][0].set_title('equal_histr')\n",
        "plt.axis(\"off\");\n",
        "\n",
        "axes[1][1].imshow(equal_histr, cmap='gray')\n",
        "axes[1][1].set_title('equal_histr')\n",
        "plt.axis(\"off\");"
      ],
      "execution_count": 0,
      "outputs": []
    },
    {
      "metadata": {
        "id": "wi0Unhm0BZN4",
        "colab_type": "text"
      },
      "cell_type": "markdown",
      "source": [
        "## HSV\n",
        "\n",
        "Select ROIs on the image is sometimes easier with HSV, like with colors, for example.\n"
      ]
    },
    {
      "metadata": {
        "id": "VqlZLgfyBb_6",
        "colab_type": "code",
        "colab": {}
      },
      "cell_type": "code",
      "source": [
        "# Hue range is [0,179], Saturation range is [0,255] and Value range is [0,255]\n",
        "hsv = cv2.cvtColor(image, cv2.COLOR_BGR2HSV)\n",
        "\n",
        "# We can obtain the HSV value picking one BGR color and using hsv transformation\n",
        "\"\"\"lower_green = np.uint8([[[0, 0,0 ]]])\n",
        "upper_green = np.uint8([[[250,100,100 ]]])\n",
        "lower_green = cv2.cvtColor(lower_green,cv2.COLOR_BGR2HSV)\n",
        "upper_green = cv2.cvtColor(upper_green,cv2.COLOR_BGR2HSV)\"\"\"\n",
        "lower_green = np.array([50, 168 , 0])\n",
        "upper_green = np.array([179, 255 , 110])\n",
        "\n",
        "maskHSV = cv2.inRange(image, lower_green, upper_green)\n",
        "color_filtred = cv2.bitwise_and(image, image, mask = maskHSV)\n",
        "\n",
        "#TODO. Represent a image with HSV dinamic values in the image\n",
        "# https://stackoverflow.com/questions/47082466/matplotlib-imshow-formatting-from-cursor-position?newreg=173d0e4afe044aed95707758164cabe2\n",
        "\n",
        "fig, axes = plt.subplots(1, 2, figsize=(8, 4))\n",
        "color = ('b','g','r')\n",
        "for i, col in enumerate(color):\n",
        "    histr = cv2.calcHist([hsv],[i], None, [256], [0,256])\n",
        "    axes[0].plot(histr,color = col)\n",
        "axes[0].legend([\"hue\", \"sat\", \"val\"])\n",
        "axes[0].axis(xmin=0,xmax=256)\n",
        "axes[0].axis(ymin=0,ymax=2000)\n",
        "axes[0].set_title('HSV hist')\n",
        "\n",
        "axes[1].imshow(color_filtred)\n",
        "axes[1].set_title('HSV filtred')\n",
        "\n",
        "for ax in axes:\n",
        "    ax.set_xticks([])\n",
        "    ax.set_yticks([])"
      ],
      "execution_count": 0,
      "outputs": []
    }
  ]
}