{
  "nbformat": 4,
  "nbformat_minor": 0,
  "metadata": {
    "colab": {
      "name": "drawing_functions_images",
      "version": "0.3.2",
      "provenance": [],
      "include_colab_link": true
    },
    "kernelspec": {
      "name": "python3",
      "display_name": "Python 3"
    }
  },
  "cells": [
    {
      "cell_type": "markdown",
      "metadata": {
        "id": "view-in-github",
        "colab_type": "text"
      },
      "source": [
        "<a href=\"https://colab.research.google.com/github/JaledMC/Learning-Artificial-Vision/blob/master/drawing_functions_images.ipynb\" target=\"_parent\"><img src=\"https://colab.research.google.com/assets/colab-badge.svg\" alt=\"Open In Colab\"/></a>"
      ]
    },
    {
      "metadata": {
        "id": "5UoEc-4ymVoB",
        "colab_type": "text"
      },
      "cell_type": "markdown",
      "source": [
        "# Drawing functions on images\n",
        "\n",
        "We can draw different shapes, or put text on the image. This functions modify the original image. Because of that, we make a copy of the original for each example.\n",
        "\n",
        "If you don't have the needed libraries, run the next block."
      ]
    },
    {
      "metadata": {
        "id": "lCebfyYvoVNF",
        "colab_type": "code",
        "colab": {}
      },
      "cell_type": "code",
      "source": [
        "!apt-get -qq install -y libsm6 libxext6 && pip3 install -q -U opencv-python\n",
        "!pip3 install -q matplotlib\n",
        "!pip3 install -q numpy\n",
        "!pip3 install -q requests"
      ],
      "execution_count": 0,
      "outputs": []
    },
    {
      "metadata": {
        "id": "KL3Zxd45oXEk",
        "colab_type": "text"
      },
      "cell_type": "markdown",
      "source": [
        "Import the libraries"
      ]
    },
    {
      "metadata": {
        "id": "79J-yU8DoabH",
        "colab_type": "code",
        "colab": {}
      },
      "cell_type": "code",
      "source": [
        "import cv2\n",
        "import numpy as np\n",
        "import matplotlib.pyplot as plt"
      ],
      "execution_count": 0,
      "outputs": []
    },
    {
      "metadata": {
        "id": "u2gTzYssp-Ti",
        "colab_type": "text"
      },
      "cell_type": "markdown",
      "source": [
        "Download the github photo"
      ]
    },
    {
      "metadata": {
        "id": "N0bULJuwokPw",
        "colab_type": "code",
        "outputId": "ca629966-0a44-4745-8e38-3184429f98b4",
        "colab": {
          "base_uri": "https://localhost:8080/",
          "height": 230
        }
      },
      "cell_type": "code",
      "source": [
        "from PIL import Image\n",
        "import requests\n",
        "from io import BytesIO\n",
        "\n",
        "response = requests.get('https://raw.githubusercontent.com/JaledMC/Learning-Artificial-Vision/master/images/origami.png')\n",
        "img = Image.open(BytesIO(response.content))\n",
        "img.save(\"origami.png\")\n",
        "# Represent the image\n",
        "fig, axes = plt.subplots(1, 1, figsize=(4, 4))\n",
        "axes.imshow(img)\n",
        "axes.set_title('Original')\n",
        "plt.axis(\"off\");\n",
        "\n",
        "image = cv2.imread('origami.png')\n",
        "image = cv2.cvtColor(image, cv2.COLOR_BGR2RGB)"
      ],
      "execution_count": 0,
      "outputs": [
        {
          "output_type": "display_data",
          "data": {
            "image/png": "[encoded data removed]",
            "text/plain": [
              "<matplotlib.figure.Figure at 0x7f68f59890f0>"
            ]
          },
          "metadata": {
            "tags": []
          }
        }
      ]
    },
    {
      "metadata": {
        "id": "50nNAUtupz1T",
        "colab_type": "text"
      },
      "cell_type": "markdown",
      "source": [
        "Draw and put text in the images"
      ]
    },
    {
      "metadata": {
        "id": "DHvfDrh9lS0m",
        "colab_type": "code",
        "colab": {}
      },
      "cell_type": "code",
      "source": [
        "# Generating multiple clones of the image in a list\n",
        "photos = []\n",
        "for i in range(7):\n",
        "    photos.append(image.copy())\n",
        "\n",
        "# Draw a line on the image. Params: image, (start coordinate, finish coordinate), color, width    \n",
        "cv2.line(photos[1], (0, 0), (1150, 450), (250, 250, 250), 20) \n",
        "# Draw a circle on the image. Params: image, centre_coordinate, radius, color, width(negative == fill)\n",
        "cv2.circle(photos[2], (200, 200), 50, (230, 10, 200), -1)  \n",
        "# Draw a rectangle on the image. Params: image, border_cor_1, border_cor_2, color, width\n",
        "cv2.rectangle(photos[3], (30, 30), (1040, 1240), (200, 30, 200), 20)   \n",
        "# Draw a polygon. Fist we need a set of points. Params: image, points, close-shape, color, width\n",
        "points = np.array([[10, 10], [20, 1060], [130, 200], [580, 200], [10, 30]], np.int32)\n",
        "cv2.polylines(photos[4], [points], True, (255, 30, 100), 6);  \n",
        "\n",
        "# Put text on the image. Params: image, text, origin, font, fontScale, color, thickness, lineType\n",
        "font = cv2.FONT_HERSHEY_SIMPLEX\n",
        "cv2.putText(photos[5], 'OpenCV', (200, 350), font, 10, (200, 255, 155), 10, cv2.LINE_AA);"
      ],
      "execution_count": 0,
      "outputs": []
    },
    {
      "metadata": {
        "id": "RlOOOLP6q6ow",
        "colab_type": "text"
      },
      "cell_type": "markdown",
      "source": [
        "Represent the images"
      ]
    },
    {
      "metadata": {
        "id": "XPEWs5D7mUYE",
        "colab_type": "code",
        "outputId": "cc3aa09d-7e3a-452f-9fb9-b88f67fd79d5",
        "colab": {
          "base_uri": "https://localhost:8080/",
          "height": 219
        }
      },
      "cell_type": "code",
      "source": [
        "fig, axes = plt.subplots(1, 5, figsize=(24, 12))\n",
        "axes[0].imshow(photos[1])\n",
        "axes[0].set_title('Line')\n",
        "axes[1].imshow(photos[2])\n",
        "axes[1].set_title('Circle')\n",
        "axes[2].imshow(photos[3])\n",
        "axes[2].set_title('Square')\n",
        "axes[3].imshow(photos[4])\n",
        "axes[3].set_title('Poligon')\n",
        "axes[4].imshow(photos[5])\n",
        "axes[4].set_title('Text')\n",
        "for ax in axes:\n",
        "    ax.set_xticks([])\n",
        "    ax.set_yticks([])"
      ],
      "execution_count": 0,
      "outputs": [
        {
          "output_type": "display_data",
          "data": {
            "image/png": "[encoded data removed]",
            "text/plain": [
              "<matplotlib.figure.Figure at 0x7f68f258f908>"
            ]
          },
          "metadata": {
            "tags": []
          }
        }
      ]
    },
    {
      "metadata": {
        "id": "RrB4YDmcq98p",
        "colab_type": "code",
        "colab": {}
      },
      "cell_type": "code",
      "source": [
        ""
      ],
      "execution_count": 0,
      "outputs": []
    }
  ]
}