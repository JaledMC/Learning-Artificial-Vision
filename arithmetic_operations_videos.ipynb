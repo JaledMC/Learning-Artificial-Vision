{
  "nbformat": 4,
  "nbformat_minor": 0,
  "metadata": {
    "colab": {
      "name": "arithmetic_operations_videos.ipynb",
      "version": "0.3.2",
      "provenance": [],
      "include_colab_link": true
    },
    "kernelspec": {
      "name": "python3",
      "display_name": "Python 3"
    }
  },
  "cells": [
    {
      "cell_type": "markdown",
      "metadata": {
        "id": "view-in-github",
        "colab_type": "text"
      },
      "source": [
        "<a href=\"https://colab.research.google.com/github/JaledMC/Learning-Artificial-Vision/blob/master/arithmetic_operations_videos.ipynb\" target=\"_parent\"><img src=\"https://colab.research.google.com/assets/colab-badge.svg\" alt=\"Open In Colab\"/></a>"
      ]
    },
    {
      "metadata": {
        "id": "gEFKvXigoyRY",
        "colab_type": "text"
      },
      "cell_type": "markdown",
      "source": [
        "# Arithmetic operations on videos"
      ]
    },
    {
      "metadata": {
        "id": "j7H1gttLozIz",
        "colab_type": "code",
        "colab": {}
      },
      "cell_type": "code",
      "source": [
        "# Import libraries\n",
        "import cv2\n",
        "import numpy as np\n",
        "import matplotlib.pyplot as plt"
      ],
      "execution_count": 0,
      "outputs": []
    },
    {
      "metadata": {
        "id": "ZHTRT3N9pSij",
        "colab_type": "text"
      },
      "cell_type": "markdown",
      "source": [
        "## Overlap a ROI\n",
        "\n",
        "As we said with images, OpenCV use numpy matrix, and we can take some pixel form one part of the frame and put them in other area."
      ]
    },
    {
      "metadata": {
        "id": "njkb7Iw7o3hr",
        "colab_type": "code",
        "colab": {}
      },
      "cell_type": "code",
      "source": [
        "cap = cv2.VideoCapture(1)\n",
        " \n",
        "while(True):\n",
        "    _, frame = cap.read()\n",
        "    # Substract a ROI of the frame. Select and change pixel regions\n",
        "    frame[55:105, 55:105] = frame[70:120, 130:180]  # Change one region for another\n",
        "    cv2.imshow('frame',frame)\n",
        "    if cv2.waitKey(1) & 0xFF == ord('q'):\n",
        "        break\n",
        "\n",
        "cap.release()\n",
        "cv2.destroyAllWindows()"
      ],
      "execution_count": 0,
      "outputs": []
    },
    {
      "metadata": {
        "id": "hq4ofuMVqRoY",
        "colab_type": "text"
      },
      "cell_type": "markdown",
      "source": [
        "## Adding two videos. Basic method\n",
        "\n",
        "The same apply for adding to frames. It's like in the images examples. Use two cameras in this case."
      ]
    },
    {
      "metadata": {
        "id": "KLttVnm0nKOc",
        "colab_type": "code",
        "colab": {}
      },
      "cell_type": "code",
      "source": [
        "# Instance two video objects\n",
        "cap1 = cv2.VideoCapture(0)\n",
        "cap2 = cv2.VideoCapture(1)\n",
        " \n",
        "while(True):\n",
        "  # read both frames\n",
        "  _, frame1 = cap1.read()\n",
        "  _, frame2 = cap2.read()\n",
        "\n",
        "  # Mix both frames. They must have same dimensions. Adjust their wheights\n",
        "  frame_mixed = cv2.addWeighted(frame1, 0.7, frame2, 0.3, 0) # image1, weight1, image2, weight2, alpha\n",
        "  \n",
        "  cv2.imshow('frame', frame_mixed)\n",
        "  if cv2.waitKey(1) & 0xFF == ord('q'):\n",
        "    break\n",
        "\n",
        "cap.release()\n",
        "cv2.destroyAllWindows()"
      ],
      "execution_count": 0,
      "outputs": []
    },
    {
      "metadata": {
        "id": "3S49nRIFrlS_",
        "colab_type": "text"
      },
      "cell_type": "markdown",
      "source": [
        "## Adding an image with no regular shape to a video\n",
        "\n",
        "To add an image to a video, the background of both ROIs must be removed, to apply add() without change any other pixel. To do that, we have to detect the border with a filter on the image, obtain the mask and add the image to the video."
      ]
    },
    {
      "metadata": {
        "id": "P2llMHmuudue",
        "colab_type": "code",
        "outputId": "e0a3fe63-9795-4362-d498-c7b590a679cb",
        "colab": {
          "base_uri": "https://localhost:8080/",
          "height": 230
        }
      },
      "cell_type": "code",
      "source": [
        "# download the image\n",
        "from PIL import Image\n",
        "import requests\n",
        "from io import BytesIO\n",
        "\n",
        "response = requests.get('https://raw.githubusercontent.com/JaledMC/Learning-Artificial-Vision/master/images/origami.png')\n",
        "img = Image.open(BytesIO(response.content))\n",
        "img.save(\"origami.png\")\n",
        "# Represent the image\n",
        "fig, axes = plt.subplots(1, 1, figsize=(4, 4))\n",
        "axes.imshow(img)\n",
        "axes.set_title('Original')\n",
        "plt.axis(\"off\");\n",
        "\n",
        "image = cv2.imread('origami.png')\n",
        "image = cv2.cvtColor(image, cv2.COLOR_BGR2RGB)"
      ],
      "execution_count": 0,
      "outputs": [
        {
          "output_type": "display_data",
          "data": {
            "image/png": "[encoded data removed]",
            "text/plain": [
              "<matplotlib.figure.Figure at 0x7fb7768e3860>"
            ]
          },
          "metadata": {
            "tags": []
          }
        }
      ]
    },
    {
      "metadata": {
        "id": "mUhoXulZrlcB",
        "colab_type": "code",
        "colab": {}
      },
      "cell_type": "code",
      "source": [
        "cap = cv2.VideoCapture(1)\n",
        " \n",
        "while(True):\n",
        "    _, frame = cap.read()\n",
        "    \"\"\"Reduce the image that is going to be added (we want it smaller than base image).\n",
        "    Obtain too the area where all this oporation is done, the ROI.\n",
        "    Select first the roi of base image with same area that added image\"\"\"\n",
        "    image_resized = cv2.resize(image, (300, 300))\n",
        "    row, col, channels = image_resized.shape\n",
        "    roi = frame[0:row, 0:col]\n",
        "  \n",
        "    # Convert image2 to gray and apply threshold to obtain a binary mask (and his inverse)\n",
        "    image2gray = cv2.cvtColor(image_resized, cv2.COLOR_BGR2GRAY)\n",
        "    _, mask = cv2.threshold(image2gray, 0, 255,  cv2.THRESH_BINARY_INV+cv2.THRESH_OTSU)\n",
        "    mask_inv = cv2.bitwise_not(mask)\n",
        "  \n",
        "    # Subsctrat pixels of the roi where the image2 will be added, and substract the background of the image2\n",
        "    substracted = cv2.bitwise_and(roi,roi,mask = mask)\n",
        "    stick = cv2.bitwise_and(image_resized,image_resized, mask = mask_inv)\n",
        "    \n",
        "    # Add the substracted and the image without background, and add this modified ROI to the original image\n",
        "    _, frame = cap.read()\n",
        "    mix = cv2.add(substracted, stick)\n",
        "    frame[0:row, 0:col] = mix\n",
        "    cv2.imshow('frame', frame)\n",
        "    if cv2.waitKey(1) & 0xFF == ord('q'):\n",
        "        break\n",
        "\n",
        "cap.release()\n",
        "cv2.destroyAllWindows()"
      ],
      "execution_count": 0,
      "outputs": []
    }
  ]
}