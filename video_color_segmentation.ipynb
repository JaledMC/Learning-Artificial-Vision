{
  "nbformat": 4,
  "nbformat_minor": 0,
  "metadata": {
    "colab": {
      "name": "video_color_segmentation.ipynb",
      "version": "0.3.2",
      "provenance": [],
      "include_colab_link": true
    },
    "kernelspec": {
      "name": "python3",
      "display_name": "Python 3"
    }
  },
  "cells": [
    {
      "cell_type": "markdown",
      "metadata": {
        "id": "view-in-github",
        "colab_type": "text"
      },
      "source": [
        "<a href=\"https://colab.research.google.com/github/JaledMC/Learning-Artificial-Vision/blob/master/video_color_segmentation.ipynb\" target=\"_parent\"><img src=\"https://colab.research.google.com/assets/colab-badge.svg\" alt=\"Open In Colab\"/></a>"
      ]
    },
    {
      "metadata": {
        "id": "C9yTT7pKPo_r",
        "colab_type": "text"
      },
      "cell_type": "markdown",
      "source": [
        "# Video color -segmentation\n",
        "\n",
        "Substract colors of a video with hsv segmentation."
      ]
    },
    {
      "metadata": {
        "id": "PxdXqRIsQALj",
        "colab_type": "code",
        "colab": {}
      },
      "cell_type": "code",
      "source": [
        "# First import the libraries\n",
        "import cv2\n",
        "import numpy as np"
      ],
      "execution_count": 0,
      "outputs": []
    },
    {
      "metadata": {
        "id": "tlxmsd8QP-0D",
        "colab_type": "text"
      },
      "cell_type": "markdown",
      "source": [
        "Start the video and convert the frame to hsv. Take the hue channel and apply a filter to obtain the mask."
      ]
    },
    {
      "metadata": {
        "id": "BDONaYlOSLIf",
        "colab_type": "code",
        "colab": {}
      },
      "cell_type": "code",
      "source": [
        "cap = cv2.VideoCapture(1)\n",
        "    \n",
        "while(True):\n",
        "    _, frame = cap.read()\n",
        "    # Convert the frame to hsv. Hue range is [0,179], Saturation range is [0,255] and Value range is [0,255]\n",
        "    hsv = cv2.cvtColor(frame, cv2.COLOR_BGR2HSV)\n",
        "    # Take the hue channel\n",
        "    hue = hsv[:, :, 0]\n",
        "    \n",
        "    # Filter some colors. This values correspond to blue colors on the frame\n",
        "    maskHSV = cv2.inRange(hue, 100, 150)\n",
        "    # apply the mask\n",
        "    color_filtred = cv2.bitwise_and(frame, frame, mask = maskHSV)\n",
        "    cv2.imshow('frame', color_filtred)\n",
        "    if cv2.waitKey(1) & 0xFF == ord('q'):\n",
        "        break\n",
        "\n",
        "cap.release()\n",
        "cv2.destroyAllWindows()"
      ],
      "execution_count": 0,
      "outputs": []
    }
  ]
}