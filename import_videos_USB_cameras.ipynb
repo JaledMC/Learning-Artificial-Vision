{
  "nbformat": 4,
  "nbformat_minor": 0,
  "metadata": {
    "colab": {
      "name": "import_videos_USB_cameras.ipynb",
      "version": "0.3.2",
      "provenance": [],
      "include_colab_link": true
    },
    "kernelspec": {
      "name": "python3",
      "display_name": "Python 3"
    }
  },
  "cells": [
    {
      "cell_type": "markdown",
      "metadata": {
        "id": "view-in-github",
        "colab_type": "text"
      },
      "source": [
        "<a href=\"https://colab.research.google.com/github/JaledMC/Learning-Artificial-Vision/blob/master/import_videos_USB_cameras.ipynb\" target=\"_parent\"><img src=\"https://colab.research.google.com/assets/colab-badge.svg\" alt=\"Open In Colab\"/></a>"
      ]
    },
    {
      "metadata": {
        "id": "NrSAoeLOgBO0",
        "colab_type": "text"
      },
      "cell_type": "markdown",
      "source": [
        "# Import videos and use USB cameras.ipynb\n",
        "\n",
        "This notebook explains how to import and save videos from local folders or usb cameras, with OpenCV.   **Google Colab doesn't support video in cells. Use a local Jupyter Notebook for this.** If you want more information about how to play videos on Colab, this [link](https://github.com/bikz05/ipython-notebooks/blob/master/computer-vision/displaying-video-in-ipython-notebook.ipynb) and this [link](https://medium.com/@neotheicebird/webcam-based-image-processing-in-ipython-notebooks-47c75a022514) can help you.  \n",
        "\n",
        "If you don't have the needed libraries, run the next block. "
      ]
    },
    {
      "metadata": {
        "id": "Mw7W_B7Ef-69",
        "colab_type": "code",
        "colab": {}
      },
      "cell_type": "code",
      "source": [
        "!apt-get -qq install -y libsm6 libxext6 && pip3 install -q -U opencv-python\n",
        "!pip3 install -q matplotlib\n",
        "!pip3 install -q numpy\n",
        "!pip3 install -q requests"
      ],
      "execution_count": 0,
      "outputs": []
    },
    {
      "metadata": {
        "id": "IMk1HnaIgX54",
        "colab_type": "text"
      },
      "cell_type": "markdown",
      "source": [
        "Import the libraries"
      ]
    },
    {
      "metadata": {
        "id": "O7TmyVGcgE4t",
        "colab_type": "code",
        "colab": {}
      },
      "cell_type": "code",
      "source": [
        "import cv2\n",
        "import numpy as np\n",
        "import matplotlib.pyplot as plt"
      ],
      "execution_count": 0,
      "outputs": []
    },
    {
      "metadata": {
        "id": "vne-EcZ5g9gO",
        "colab_type": "text"
      },
      "cell_type": "markdown",
      "source": [
        "## Download the videos\n",
        "\n",
        "To use the github videos, first download them to local folder."
      ]
    },
    {
      "metadata": {
        "id": "KPFNRlEZgaKy",
        "colab_type": "code",
        "colab": {}
      },
      "cell_type": "code",
      "source": [
        "response = requests.get('https://raw.githubusercontent.com/JaledMC/Learning-Artificial-Vision/master/images/dog_video.mp4')\n",
        "with open('dog.mp4', 'wb') as f:\n",
        "    f.write(response.content)"
      ],
      "execution_count": 0,
      "outputs": []
    },
    {
      "metadata": {
        "id": "9ZWCmDbvimX8",
        "colab_type": "text"
      },
      "cell_type": "markdown",
      "source": [
        "## Import a local video\n"
      ]
    },
    {
      "metadata": {
        "id": "1dEGYMYKitbg",
        "colab_type": "text"
      },
      "cell_type": "markdown",
      "source": [
        "Now import the video with VideoCapture, and show frame by frame with a loop. The waitKey command is needed after the imshow, and it can adjusts the play speed. We can exit the video typing 'q' key. In that case, release video object and close all windows."
      ]
    },
    {
      "metadata": {
        "id": "XjUJhkmNisc_",
        "colab_type": "code",
        "colab": {}
      },
      "cell_type": "code",
      "source": [
        ""
      ],
      "execution_count": 0,
      "outputs": []
    },
    {
      "metadata": {
        "id": "POVnzV-cimrT",
        "colab_type": "code",
        "colab": {}
      },
      "cell_type": "code",
      "source": [
        ""
      ],
      "execution_count": 0,
      "outputs": []
    }
  ]
}