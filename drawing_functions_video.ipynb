{
  "nbformat": 4,
  "nbformat_minor": 0,
  "metadata": {
    "colab": {
      "name": "drawing_functions_video.ipynb",
      "version": "0.3.2",
      "provenance": [],
      "include_colab_link": true
    },
    "kernelspec": {
      "name": "python3",
      "display_name": "Python 3"
    }
  },
  "cells": [
    {
      "cell_type": "markdown",
      "metadata": {
        "id": "view-in-github",
        "colab_type": "text"
      },
      "source": [
        "<a href=\"https://colab.research.google.com/github/JaledMC/Learning-Artificial-Vision/blob/master/drawing_functions_video.ipynb\" target=\"_parent\"><img src=\"https://colab.research.google.com/assets/colab-badge.svg\" alt=\"Open In Colab\"/></a>"
      ]
    },
    {
      "metadata": {
        "id": "wpzGlFfF8nfg",
        "colab_type": "text"
      },
      "cell_type": "markdown",
      "source": [
        "# Drawing functions on video\n",
        "We can draw different shapes, or put text on the video. "
      ]
    },
    {
      "metadata": {
        "id": "c8tU61WA7H7K",
        "colab_type": "code",
        "colab": {}
      },
      "cell_type": "code",
      "source": [
        "# Libraries\n",
        "import cv2\n",
        "import matplotlib.pyplot as plt\n",
        "import numpy as np"
      ],
      "execution_count": 0,
      "outputs": []
    },
    {
      "metadata": {
        "id": "LiixzC0t8l1j",
        "colab_type": "code",
        "colab": {}
      },
      "cell_type": "code",
      "source": [
        "# Drawing\n",
        "cap = cv2.VideoCapture(1)\n",
        " \n",
        "while(True):\n",
        "    _, frame = cap.read()\n",
        " \n",
        "    # Draw a line on the image. Params: image, (start coordinate, finish coordinate), color, width    \n",
        "    cv2.line(frame, (0, 0), (150, 450), (250, 250, 250), 20) \n",
        "    # Draw a circle on the image. Params: image, centre_coordinate, radius, color, width(negative == fill)\n",
        "    cv2.circle(frame, (200, 200), 50, (230, 10, 200), -1)  \n",
        "    # Draw a rectangle on the image. Params: image, border_cor_1, border_cor_2, color, width\n",
        "    cv2.rectangle(frame, (30, 30), (140, 140), (200, 30, 200), 20)   \n",
        "    # Draw a polygon. Fist we need a set of points. Params: image, points, close-shape, color, width\n",
        "    points = np.array([[10, 10], [20, 160], [130, 200], [50, 200], [10, 30]], np.int32)\n",
        "    cv2.polylines(frame, [points], True, (255, 30, 100), 6);  \n",
        "\n",
        "    # Put text on the image. Params: image, text, origin, font, fontScale, color, thickness, lineType\n",
        "    font = cv2.FONT_HERSHEY_SIMPLEX\n",
        "    cv2.putText(frame, 'OpenCV', (200, 350), font, 3, (200, 255, 155), 5, cv2.LINE_AA);\n",
        "\n",
        "    cv2.imshow('frame',frame)\n",
        "    if cv2.waitKey(1) & 0xFF == ord('q'):\n",
        "        break\n",
        "\n",
        "cap.release()\n",
        "cv2.destroyAllWindows()"
      ],
      "execution_count": 0,
      "outputs": []
    }
  ]
}
